{
 "cells": [
  {
   "cell_type": "markdown",
   "metadata": {},
   "source": [
    "Que 1: Name any five plots that we can plot using the Seaborn library. Also, state the uses of each plot.\n",
    "\n",
    "Que 2: Load the \"fmri\" dataset using the load_dataset function of seaborn. Plot a line plot using x =\n",
    "\"timepoint\" and y = \"signal\" for different events and regions.\n",
    "Note: timepoint, signal, event, and region are columns in the fmri dataset.\n",
    "\n",
    "Que 3: Load the \"titanic\" dataset using the load_dataset function of seaborn. Plot two box plots using x =\n",
    "'pclass', y = 'age' and y = 'fare'.\n",
    "Note: pclass, age, and fare are columns in the titanic dataset.\n",
    "\n",
    "Que 4: Use the \"diamonds\" dataset from seaborn to plot a histogram for the 'price' column. Use the hue\n",
    "parameter for the 'cut' column of the diamonds dataset.\n",
    "\n",
    "Que 5: Use the \"iris\" dataset from seaborn to plot a pair plot. Use the hue parameter for the \"species\" column\n",
    "of the iris dataset.\n",
    "\n",
    "Que 6: Use the \"flights\" dataset from seaborn to plot a heatmap."
   ]
  },
  {
   "cell_type": "markdown",
   "metadata": {},
   "source": [
    "# 1.\n",
    "\n",
    "    1. Scatter Plot (sns.scatterplot):\n",
    "Use: Used to visualize the relationship between two continuous variables. Points are plotted in a two-dimensional space, with each point representing a data pair.\n",
    "    \n",
    "    2. Box Plot (sns.boxplot):\n",
    "Use: Displays the distribution of a continuous variable and shows the median, quartiles, and potential outliers. It is useful for comparing distributions between several groups.\n",
    "    \n",
    "    3. Heatmap (sns.heatmap):\n",
    "Use: Used to represent matrix-like data. The values are displayed in a grid of colored cells, which helps in visualizing correlation matrices, confusion matrices, etc.\n",
    "    \n",
    "    4. Violin Plot (sns.violinplot):\n",
    "Use: Combines aspects of box plots and kernel density plots. It shows the distribution of the data and can help compare multiple categories.\n",
    "    \n",
    "    5. Pair Plot (sns.pairplot):\n",
    "Use: A matrix of scatter plots, used to visualize the relationships between several numeric variables in a dataset. It is useful for exploratory data analysis and identifying correlations."
   ]
  },
  {
   "cell_type": "code",
   "execution_count": null,
   "metadata": {},
   "outputs": [],
   "source": [
    "# 2.\n",
    "\n",
    "import seaborn as sns\n",
    "import matplotlib.pyplot as plt\n",
    "\n",
    "# Load the fmri dataset\n",
    "fmri = sns.load_dataset(\"fmri\")\n",
    "\n",
    "# Plotting the line plot\n",
    "sns.lineplot(data=fmri, x=\"timepoint\", y=\"signal\", hue=\"event\", style=\"region\", markers=True)\n",
    "plt.title(\"Signal over Time for Different Events and Regions\")\n",
    "plt.show()\n"
   ]
  },
  {
   "cell_type": "code",
   "execution_count": null,
   "metadata": {},
   "outputs": [],
   "source": [
    "# 3. \n",
    "\n",
    "# Load the titanic dataset\n",
    "titanic = sns.load_dataset(\"titanic\")\n",
    "\n",
    "# Plotting the box plot for age\n",
    "plt.figure(figsize=(10, 5))\n",
    "sns.boxplot(data=titanic, x=\"pclass\", y=\"age\")\n",
    "plt.title(\"Box plot of Age by Pclass\")\n",
    "plt.show()\n",
    "\n",
    "# Plotting the box plot for fare\n",
    "plt.figure(figsize=(10, 5))\n",
    "sns.boxplot(data=titanic, x=\"pclass\", y=\"fare\")\n",
    "plt.title(\"Box plot of Fare by Pclass\")\n",
    "plt.show()\n"
   ]
  },
  {
   "cell_type": "code",
   "execution_count": null,
   "metadata": {},
   "outputs": [],
   "source": [
    "# 4.\n",
    "\n",
    "# Load the diamonds dataset\n",
    "diamonds = sns.load_dataset(\"diamonds\")\n",
    "\n",
    "# Plotting the histogram for price with hue as cut\n",
    "sns.histplot(diamonds, x=\"price\", hue=\"cut\", kde=True)\n",
    "plt.title(\"Histogram of Price by Cut\")\n",
    "plt.show()\n"
   ]
  },
  {
   "cell_type": "code",
   "execution_count": null,
   "metadata": {},
   "outputs": [],
   "source": [
    "# 5.\n",
    "\n",
    "# Load the iris dataset\n",
    "iris = sns.load_dataset(\"iris\")\n",
    "\n",
    "# Plotting the pair plot with hue as species\n",
    "sns.pairplot(iris, hue=\"species\")\n",
    "plt.title(\"Pair Plot of Iris Dataset\")\n",
    "plt.show()\n"
   ]
  },
  {
   "cell_type": "code",
   "execution_count": null,
   "metadata": {},
   "outputs": [],
   "source": [
    "# 6.\n",
    "\n",
    "# Load the flights dataset\n",
    "flights = sns.load_dataset(\"flights\")\n",
    "\n",
    "# Pivot the flights data to make it suitable for a heatmap\n",
    "flights_pivot = flights.pivot_table(index=\"month\", columns=\"year\", values=\"passengers\")\n",
    "\n",
    "# Plotting the heatmap\n",
    "sns.heatmap(flights_pivot, cmap=\"YlGnBu\", annot=True, fmt=\"d\")\n",
    "plt.title(\"Heatmap of Passengers over Years\")\n",
    "plt.show()\n"
   ]
  }
 ],
 "metadata": {
  "language_info": {
   "name": "python"
  }
 },
 "nbformat": 4,
 "nbformat_minor": 2
}
